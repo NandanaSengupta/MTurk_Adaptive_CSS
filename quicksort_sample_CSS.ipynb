{
 "cells": [
  {
   "cell_type": "code",
   "execution_count": 1,
   "metadata": {
    "collapsed": false
   },
   "outputs": [],
   "source": [
    "from random import randrange\n",
    "from random import sample\n",
    "\n",
    "# given list, sub-list (defined by start and end indices), random pivot index\n",
    "def partition(lst, start, end, pivot):\n",
    "    # place pivot at the end of the sub-list\n",
    "    lst[pivot], lst[end] = lst[end], lst[pivot]\n",
    "    lst_below_pivot = []\n",
    "    lst_above_pivot = []\n",
    "    query_counter = 0 \n",
    "    \n",
    "    # dividing into two lists (above and below pivot)\n",
    "    for i in range(start, end):\n",
    "        query_counter +=1 \n",
    "        if lst[i] < lst[end]:\n",
    "              lst_below_pivot.append(lst[i])\n",
    "        if lst[i] >= lst[end]:\n",
    "              lst_above_pivot.append(lst[i])\n",
    "    \n",
    "    next_pivot = start + len(lst_below_pivot)\n",
    "    \n",
    "    lst[start : next_pivot ] = lst_below_pivot\n",
    "    lst[next_pivot] = lst[end]\n",
    "    lst[(next_pivot + 1): end+1 ] = lst_above_pivot\n",
    "\n",
    "    return next_pivot, query_counter\n",
    "\n",
    "def quick_sort(lst, start, end):\n",
    "    if start >= end:\n",
    "        return 0\n",
    "    pivot = randrange(start, end + 1)\n",
    "    new_pivot, nqueries = partition(lst, start, end, pivot)\n",
    "    nqueries += quick_sort(lst, start, new_pivot - 1)\n",
    "    nqueries += quick_sort(lst, new_pivot + 1, end)\n",
    "    return nqueries\n",
    "\n",
    "def sort(lst):\n",
    "    nqueries = quick_sort(lst, 0, len(lst) - 1)\n",
    "    return nqueries\n"
   ]
  },
  {
   "cell_type": "code",
   "execution_count": 4,
   "metadata": {
    "collapsed": false
   },
   "outputs": [],
   "source": [
    "from copy import deepcopy\n",
    "\n",
    "lst = sample( range(1000), 100)\n",
    "lstcopy = deepcopy(lst)\n",
    "total_queries = sort(lst)  \n"
   ]
  },
  {
   "cell_type": "code",
   "execution_count": null,
   "metadata": {
    "collapsed": true
   },
   "outputs": [],
   "source": [
    "print \"original list:\" , lstcopy , \"\\n\" \n",
    "print \"sorted list:\", lst , \"\\n\\n\" \n",
    "\n",
    "print \"total number of items = \" , len(lst)\n",
    "print \"total non-adaptive queries required = n(n-1)/2 = \" , len(lst)*(len(lst)-1)/2\n",
    "print \"total quicksort queries = \" , total_queries\n",
    "     "
   ]
  }
 ],
 "metadata": {
  "kernelspec": {
   "display_name": "Python 2",
   "language": "python",
   "name": "python2"
  },
  "language_info": {
   "codemirror_mode": {
    "name": "ipython",
    "version": 2
   },
   "file_extension": ".py",
   "mimetype": "text/x-python",
   "name": "python",
   "nbconvert_exporter": "python",
   "pygments_lexer": "ipython2",
   "version": "2.7.10"
  }
 },
 "nbformat": 4,
 "nbformat_minor": 0
}
